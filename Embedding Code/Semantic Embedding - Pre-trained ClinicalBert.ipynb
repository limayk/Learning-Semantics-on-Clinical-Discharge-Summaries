{
 "cells": [
  {
   "cell_type": "markdown",
   "id": "67bdde35",
   "metadata": {},
   "source": [
    "### Read data and create Y-labels"
   ]
  },
  {
   "cell_type": "code",
   "execution_count": 1,
   "id": "c551e9c3",
   "metadata": {},
   "outputs": [
    {
     "data": {
      "text/html": [
       "<div>\n",
       "<style scoped>\n",
       "    .dataframe tbody tr th:only-of-type {\n",
       "        vertical-align: middle;\n",
       "    }\n",
       "\n",
       "    .dataframe tbody tr th {\n",
       "        vertical-align: top;\n",
       "    }\n",
       "\n",
       "    .dataframe thead th {\n",
       "        text-align: right;\n",
       "    }\n",
       "</style>\n",
       "<table border=\"1\" class=\"dataframe\">\n",
       "  <thead>\n",
       "    <tr style=\"text-align: right;\">\n",
       "      <th></th>\n",
       "      <th>note_id</th>\n",
       "      <th>subject_id</th>\n",
       "      <th>hadm_id</th>\n",
       "      <th>note_type</th>\n",
       "      <th>note_seq</th>\n",
       "      <th>charttime</th>\n",
       "      <th>storetime</th>\n",
       "      <th>text</th>\n",
       "    </tr>\n",
       "  </thead>\n",
       "  <tbody>\n",
       "    <tr>\n",
       "      <th>0</th>\n",
       "      <td>10000032-DS-21</td>\n",
       "      <td>10000032</td>\n",
       "      <td>22595853</td>\n",
       "      <td>DS</td>\n",
       "      <td>21</td>\n",
       "      <td>2180-05-07 00:00:00</td>\n",
       "      <td>2180-05-09 15:26:00</td>\n",
       "      <td>\\nName:  ___                     Unit No:   _...</td>\n",
       "    </tr>\n",
       "  </tbody>\n",
       "</table>\n",
       "</div>"
      ],
      "text/plain": [
       "          note_id  subject_id   hadm_id note_type  note_seq  \\\n",
       "0  10000032-DS-21    10000032  22595853        DS        21   \n",
       "\n",
       "             charttime            storetime  \\\n",
       "0  2180-05-07 00:00:00  2180-05-09 15:26:00   \n",
       "\n",
       "                                                text  \n",
       "0   \\nName:  ___                     Unit No:   _...  "
      ]
     },
     "execution_count": 1,
     "metadata": {},
     "output_type": "execute_result"
    }
   ],
   "source": [
    "import pandas as pd\n",
    "import os\n",
    "\n",
    "#read\n",
    "folder_name = \"alldata/note\"\n",
    "file_name = \"discharge.csv\"\n",
    "file_path = os.path.join(os.getcwd(), folder_name, file_name)\n",
    "df = pd.read_csv(file_path)\n",
    "df.head(1)"
   ]
  },
  {
   "cell_type": "code",
   "execution_count": 2,
   "id": "1adc26ac",
   "metadata": {},
   "outputs": [
    {
     "data": {
      "text/html": [
       "<div>\n",
       "<style scoped>\n",
       "    .dataframe tbody tr th:only-of-type {\n",
       "        vertical-align: middle;\n",
       "    }\n",
       "\n",
       "    .dataframe tbody tr th {\n",
       "        vertical-align: top;\n",
       "    }\n",
       "\n",
       "    .dataframe thead th {\n",
       "        text-align: right;\n",
       "    }\n",
       "</style>\n",
       "<table border=\"1\" class=\"dataframe\">\n",
       "  <thead>\n",
       "    <tr style=\"text-align: right;\">\n",
       "      <th></th>\n",
       "      <th>note_id</th>\n",
       "      <th>subject_id</th>\n",
       "      <th>hadm_id</th>\n",
       "      <th>note_type</th>\n",
       "      <th>note_seq</th>\n",
       "      <th>charttime</th>\n",
       "      <th>storetime</th>\n",
       "      <th>text</th>\n",
       "      <th>Y</th>\n",
       "    </tr>\n",
       "  </thead>\n",
       "  <tbody>\n",
       "    <tr>\n",
       "      <th>0</th>\n",
       "      <td>10000032-DS-21</td>\n",
       "      <td>10000032</td>\n",
       "      <td>22595853</td>\n",
       "      <td>DS</td>\n",
       "      <td>21</td>\n",
       "      <td>2180-05-07</td>\n",
       "      <td>2180-05-09 15:26:00</td>\n",
       "      <td>\\nName:  ___                     Unit No:   _...</td>\n",
       "      <td>1</td>\n",
       "    </tr>\n",
       "  </tbody>\n",
       "</table>\n",
       "</div>"
      ],
      "text/plain": [
       "          note_id  subject_id   hadm_id note_type  note_seq  charttime  \\\n",
       "0  10000032-DS-21    10000032  22595853        DS        21 2180-05-07   \n",
       "\n",
       "             storetime                                               text  Y  \n",
       "0  2180-05-09 15:26:00   \\nName:  ___                     Unit No:   _...  1  "
      ]
     },
     "execution_count": 2,
     "metadata": {},
     "output_type": "execute_result"
    }
   ],
   "source": [
    "#create Y label\n",
    "df['charttime'] = pd.to_datetime(df['charttime'])\n",
    "df = df.sort_values(by=['subject_id', 'charttime'])\n",
    "df['Y'] = df.groupby('subject_id')['charttime'].shift(-1).notna().astype(int)\n",
    "df.head(1)"
   ]
  },
  {
   "cell_type": "markdown",
   "id": "20b2d27a",
   "metadata": {},
   "source": [
    "### ClinicalBert - import and load the model\n",
    "This is already pre-trained on clinical data and not fine-tuned for ours"
   ]
  },
  {
   "cell_type": "code",
   "execution_count": 3,
   "id": "96614bff",
   "metadata": {},
   "outputs": [
    {
     "name": "stderr",
     "output_type": "stream",
     "text": [
      "/opt/miniconda3/lib/python3.12/site-packages/tqdm/auto.py:21: TqdmWarning: IProgress not found. Please update jupyter and ipywidgets. See https://ipywidgets.readthedocs.io/en/stable/user_install.html\n",
      "  from .autonotebook import tqdm as notebook_tqdm\n"
     ]
    }
   ],
   "source": [
    "from transformers import AutoTokenizer, AutoModel\n",
    "import torch\n",
    "\n",
    "# Load ClinicalBERT tokenizer and model\n",
    "model_name = \"emilyalsentzer/Bio_ClinicalBERT\"  # ClinicalBERT pretrained on MIMIC-III\n",
    "tokenizer = AutoTokenizer.from_pretrained(model_name)\n",
    "model = AutoModel.from_pretrained(model_name)"
   ]
  },
  {
   "cell_type": "code",
   "execution_count": 6,
   "id": "407fd62d",
   "metadata": {},
   "outputs": [
    {
     "name": "stderr",
     "output_type": "stream",
     "text": [
      "[nltk_data] Downloading package punkt_tab to\n",
      "[nltk_data]     /Users/kalyanilimaye/nltk_data...\n",
      "[nltk_data]   Unzipping tokenizers/punkt_tab.zip.\n"
     ]
    },
    {
     "data": {
      "text/plain": [
       "True"
      ]
     },
     "execution_count": 6,
     "metadata": {},
     "output_type": "execute_result"
    }
   ],
   "source": [
    "import nltk\n",
    "nltk.download('punkt_tab')"
   ]
  },
  {
   "cell_type": "markdown",
   "id": "f1bcd6fa",
   "metadata": {},
   "source": [
    "### Sample 10k rows"
   ]
  },
  {
   "cell_type": "code",
   "execution_count": 3,
   "id": "54d2ee97",
   "metadata": {},
   "outputs": [],
   "source": [
    "#Randomly sample rows from the dataset for reproducibility\n",
    "sampled_df = df.sample(n=10000, random_state=42).reset_index(drop=True)"
   ]
  },
  {
   "cell_type": "code",
   "execution_count": 14,
   "id": "a79427a1",
   "metadata": {},
   "outputs": [
    {
     "data": {
      "text/html": [
       "<div>\n",
       "<style scoped>\n",
       "    .dataframe tbody tr th:only-of-type {\n",
       "        vertical-align: middle;\n",
       "    }\n",
       "\n",
       "    .dataframe tbody tr th {\n",
       "        vertical-align: top;\n",
       "    }\n",
       "\n",
       "    .dataframe thead th {\n",
       "        text-align: right;\n",
       "    }\n",
       "</style>\n",
       "<table border=\"1\" class=\"dataframe\">\n",
       "  <thead>\n",
       "    <tr style=\"text-align: right;\">\n",
       "      <th></th>\n",
       "      <th>note_id</th>\n",
       "      <th>subject_id</th>\n",
       "      <th>hadm_id</th>\n",
       "      <th>note_type</th>\n",
       "      <th>note_seq</th>\n",
       "      <th>charttime</th>\n",
       "      <th>storetime</th>\n",
       "      <th>text</th>\n",
       "      <th>Y</th>\n",
       "    </tr>\n",
       "  </thead>\n",
       "  <tbody>\n",
       "    <tr>\n",
       "      <th>0</th>\n",
       "      <td>10202247-DS-15</td>\n",
       "      <td>10202247</td>\n",
       "      <td>28736349</td>\n",
       "      <td>DS</td>\n",
       "      <td>15</td>\n",
       "      <td>2173-11-11</td>\n",
       "      <td>2173-11-15 13:25:00</td>\n",
       "      <td>\\nName:  ___                    Unit No:   __...</td>\n",
       "      <td>1</td>\n",
       "    </tr>\n",
       "  </tbody>\n",
       "</table>\n",
       "</div>"
      ],
      "text/plain": [
       "          note_id  subject_id   hadm_id note_type  note_seq  charttime  \\\n",
       "0  10202247-DS-15    10202247  28736349        DS        15 2173-11-11   \n",
       "\n",
       "             storetime                                               text  Y  \n",
       "0  2173-11-15 13:25:00   \\nName:  ___                    Unit No:   __...  1  "
      ]
     },
     "execution_count": 14,
     "metadata": {},
     "output_type": "execute_result"
    }
   ],
   "source": [
    "sampled_df.head(1)"
   ]
  },
  {
   "cell_type": "markdown",
   "id": "80bbbebe",
   "metadata": {},
   "source": [
    "This is just to try and make the runs on my Mac faster due to lack of GPU"
   ]
  },
  {
   "cell_type": "code",
   "execution_count": 34,
   "id": "37accd2c",
   "metadata": {},
   "outputs": [
    {
     "data": {
      "text/plain": [
       "True"
      ]
     },
     "execution_count": 34,
     "metadata": {},
     "output_type": "execute_result"
    }
   ],
   "source": [
    "torch.backends.mps.is_available()"
   ]
  },
  {
   "cell_type": "markdown",
   "id": "ee8c9a51",
   "metadata": {},
   "source": [
    "### Hierarchical embedding function"
   ]
  },
  {
   "cell_type": "code",
   "execution_count": 32,
   "id": "daa67e46",
   "metadata": {},
   "outputs": [
    {
     "name": "stderr",
     "output_type": "stream",
     "text": [
      "[nltk_data] Downloading package punkt to\n",
      "[nltk_data]     /Users/kalyanilimaye/nltk_data...\n",
      "[nltk_data]   Package punkt is already up-to-date!\n"
     ]
    }
   ],
   "source": [
    "import torch\n",
    "from transformers import AutoTokenizer, AutoModel\n",
    "import nltk\n",
    "nltk.download('punkt')  # For sentence tokenization\n",
    "from nltk.tokenize import sent_tokenize\n",
    "\n",
    "\n",
    "device = torch.device(\"mps\") if torch.backends.mps.is_available() else torch.device(\"cpu\")\n",
    "model.to(device)  # Move the model to MPS (or CPU if not available)\n",
    "\n",
    "def get_hierarchical_embedding(text, model, tokenizer, max_length=512):\n",
    "    \"\"\"\n",
    "    Hierarchical chunking approach:\n",
    "      1) Split text into sentences\n",
    "      2) For each sentence, chunk into <=512 tokens\n",
    "      3) Average chunk embeddings to get a sentence-level embedding\n",
    "      4) Average all sentence embeddings to get a document-level embedding\n",
    "    \"\"\"\n",
    "    \n",
    "    sentences = sent_tokenize(text)\n",
    "    sentence_embeddings = []\n",
    "\n",
    "    for sent in sentences:\n",
    "        # Tokenize without truncation to get full tokens for this sentence\n",
    "        full_tokens = tokenizer(sent, truncation=False, padding=False)\n",
    "        input_ids = full_tokens[\"input_ids\"]\n",
    "        \n",
    "        num_chunks = (len(input_ids) // max_length) + (1 if len(input_ids) % max_length > 0 else 0)\n",
    "        chunk_embeddings = []\n",
    "        \n",
    "        for i in range(num_chunks):\n",
    "            chunk_ids = input_ids[i * max_length : (i + 1) * max_length]\n",
    "            \n",
    "            chunk_tokens = {\n",
    "                \"input_ids\": torch.tensor([chunk_ids], device=device)\n",
    "            }\n",
    "\n",
    "            with torch.no_grad():\n",
    "                output = model(**chunk_tokens)\n",
    "            \n",
    "            chunk_embedding = output.last_hidden_state.mean(dim=1)  # (1, 768)\n",
    "            chunk_embeddings.append(chunk_embedding)\n",
    "        \n",
    "        if len(chunk_embeddings) > 0:\n",
    "            sentence_embedding = torch.stack(chunk_embeddings).mean(dim=0)  # (1, 768)\n",
    "            sentence_embeddings.append(sentence_embedding)\n",
    "    \n",
    "    if len(sentence_embeddings) == 0:\n",
    "        return torch.zeros(model.config.hidden_size, device=device).cpu().numpy()\n",
    "\n",
    "    doc_embedding = torch.stack(sentence_embeddings).mean(dim=0)  # (1, 768)\n",
    "    return doc_embedding.squeeze().cpu().numpy()\n"
   ]
  },
  {
   "cell_type": "markdown",
   "id": "d52d2fba",
   "metadata": {},
   "source": [
    "### run function on our sampled data and save"
   ]
  },
  {
   "cell_type": "code",
   "execution_count": 35,
   "id": "8d95f99d",
   "metadata": {},
   "outputs": [
    {
     "name": "stdout",
     "output_type": "stream",
     "text": [
      "Time taken for 10000 rows: 19264.25 seconds\n"
     ]
    },
    {
     "data": {
      "text/html": [
       "<div>\n",
       "<style scoped>\n",
       "    .dataframe tbody tr th:only-of-type {\n",
       "        vertical-align: middle;\n",
       "    }\n",
       "\n",
       "    .dataframe tbody tr th {\n",
       "        vertical-align: top;\n",
       "    }\n",
       "\n",
       "    .dataframe thead th {\n",
       "        text-align: right;\n",
       "    }\n",
       "</style>\n",
       "<table border=\"1\" class=\"dataframe\">\n",
       "  <thead>\n",
       "    <tr style=\"text-align: right;\">\n",
       "      <th></th>\n",
       "      <th>0</th>\n",
       "      <th>1</th>\n",
       "      <th>2</th>\n",
       "      <th>3</th>\n",
       "      <th>4</th>\n",
       "      <th>5</th>\n",
       "      <th>6</th>\n",
       "      <th>7</th>\n",
       "      <th>8</th>\n",
       "      <th>9</th>\n",
       "      <th>...</th>\n",
       "      <th>759</th>\n",
       "      <th>760</th>\n",
       "      <th>761</th>\n",
       "      <th>762</th>\n",
       "      <th>763</th>\n",
       "      <th>764</th>\n",
       "      <th>765</th>\n",
       "      <th>766</th>\n",
       "      <th>767</th>\n",
       "      <th>Y</th>\n",
       "    </tr>\n",
       "  </thead>\n",
       "  <tbody>\n",
       "    <tr>\n",
       "      <th>0</th>\n",
       "      <td>0.186606</td>\n",
       "      <td>0.085287</td>\n",
       "      <td>-0.136578</td>\n",
       "      <td>0.114657</td>\n",
       "      <td>0.078886</td>\n",
       "      <td>-0.039044</td>\n",
       "      <td>0.111851</td>\n",
       "      <td>0.070599</td>\n",
       "      <td>0.084644</td>\n",
       "      <td>-0.019350</td>\n",
       "      <td>...</td>\n",
       "      <td>0.015664</td>\n",
       "      <td>-0.259481</td>\n",
       "      <td>0.042405</td>\n",
       "      <td>0.033597</td>\n",
       "      <td>0.030835</td>\n",
       "      <td>0.149914</td>\n",
       "      <td>0.223261</td>\n",
       "      <td>0.122565</td>\n",
       "      <td>-0.019840</td>\n",
       "      <td>1</td>\n",
       "    </tr>\n",
       "    <tr>\n",
       "      <th>1</th>\n",
       "      <td>0.206593</td>\n",
       "      <td>0.026372</td>\n",
       "      <td>0.024923</td>\n",
       "      <td>0.170108</td>\n",
       "      <td>0.071886</td>\n",
       "      <td>-0.061216</td>\n",
       "      <td>0.113776</td>\n",
       "      <td>0.092842</td>\n",
       "      <td>0.062146</td>\n",
       "      <td>0.004418</td>\n",
       "      <td>...</td>\n",
       "      <td>-0.015256</td>\n",
       "      <td>-0.130282</td>\n",
       "      <td>-0.003898</td>\n",
       "      <td>0.104951</td>\n",
       "      <td>-0.032151</td>\n",
       "      <td>0.072405</td>\n",
       "      <td>0.173873</td>\n",
       "      <td>0.109439</td>\n",
       "      <td>-0.069683</td>\n",
       "      <td>1</td>\n",
       "    </tr>\n",
       "  </tbody>\n",
       "</table>\n",
       "<p>2 rows × 769 columns</p>\n",
       "</div>"
      ],
      "text/plain": [
       "          0         1         2         3         4         5         6  \\\n",
       "0  0.186606  0.085287 -0.136578  0.114657  0.078886 -0.039044  0.111851   \n",
       "1  0.206593  0.026372  0.024923  0.170108  0.071886 -0.061216  0.113776   \n",
       "\n",
       "          7         8         9  ...       759       760       761       762  \\\n",
       "0  0.070599  0.084644 -0.019350  ...  0.015664 -0.259481  0.042405  0.033597   \n",
       "1  0.092842  0.062146  0.004418  ... -0.015256 -0.130282 -0.003898  0.104951   \n",
       "\n",
       "        763       764       765       766       767  Y  \n",
       "0  0.030835  0.149914  0.223261  0.122565 -0.019840  1  \n",
       "1 -0.032151  0.072405  0.173873  0.109439 -0.069683  1  \n",
       "\n",
       "[2 rows x 769 columns]"
      ]
     },
     "execution_count": 35,
     "metadata": {},
     "output_type": "execute_result"
    }
   ],
   "source": [
    "import time\n",
    "\n",
    "start_time = time.time()\n",
    "\n",
    "embeddings = []\n",
    "for i, row in sampled_df.iterrows():\n",
    "    text = row['text']\n",
    "    emb = get_hierarchical_embedding(text, model, tokenizer)\n",
    "    embeddings.append(emb)\n",
    "\n",
    "end_time = time.time()\n",
    "print(f\"Time taken for 10000 rows: {end_time - start_time:.2f} seconds\")\n",
    "\n",
    "embedding_df = pd.DataFrame(np.array(embeddings))\n",
    "\n",
    "embedding_df['Y'] = sampled_df['Y'].values\n",
    "save_path = os.path.join(\"alldata/note\", \"semantic_BertHier_FullText.csv\")\n",
    "embedding_df.to_csv(save_path, index=False)\n",
    "embedding_df.head(2)"
   ]
  },
  {
   "cell_type": "code",
   "execution_count": null,
   "id": "09ebf263",
   "metadata": {},
   "outputs": [],
   "source": []
  }
 ],
 "metadata": {
  "kernelspec": {
   "display_name": "Python (Miniconda3)",
   "language": "python",
   "name": "miniconda3"
  },
  "language_info": {
   "codemirror_mode": {
    "name": "ipython",
    "version": 3
   },
   "file_extension": ".py",
   "mimetype": "text/x-python",
   "name": "python",
   "nbconvert_exporter": "python",
   "pygments_lexer": "ipython3",
   "version": "3.12.9"
  }
 },
 "nbformat": 4,
 "nbformat_minor": 5
}
