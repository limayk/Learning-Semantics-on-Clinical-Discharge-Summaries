{
 "cells": [
  {
   "cell_type": "markdown",
   "metadata": {},
   "source": [
    "plot multiple ROC curves together"
   ]
  },
  {
   "cell_type": "code",
   "execution_count": 13,
   "metadata": {},
   "outputs": [],
   "source": [
    "import os\n",
    "import pandas as pd\n",
    "import matplotlib.pyplot as plt\n",
    "\n",
    "def plot_multiple_roc_curves(csv_files, model_names, save_path):\n",
    "    \"\"\"\n",
    "    Plots multiple ROC curves from saved FPR/TPR values.\n",
    "    \n",
    "    :param csv_files: List of CSV file paths containing 'fpr' and 'tpr' columns.\n",
    "    :param model_names: List of model names to display in the legend.\n",
    "    :param save_path: Path to save the combined ROC plot.\n",
    "    \"\"\"\n",
    "    if len(csv_files) != len(model_names):\n",
    "        raise ValueError(\"Number of CSV files and model names must match.\")\n",
    "\n",
    "    plt.figure(figsize=(8, 6))\n",
    "\n",
    "    # Loop through each saved ROC CSV\n",
    "    for csv_file, model_name in zip(csv_files, model_names):\n",
    "        # Load CSV\n",
    "        df = pd.read_csv(csv_file)\n",
    "\n",
    "        # Extract FPR and TPR\n",
    "        fpr = df['fpr'].values\n",
    "        tpr = df['tpr'].values\n",
    "        auc_value = df['auc'].values[0]  # AUC is the same across all rows in the file\n",
    "\n",
    "        # Plot ROC curve\n",
    "        plt.plot(fpr, tpr, label=f'{model_name} (AUC = {auc_value:.2f})', linewidth=2)\n",
    "\n",
    "    # Add diagonal line for random guessing\n",
    "    plt.plot([0, 1], [0, 1], 'r--', label=\"Random (AUC = 0.50)\")\n",
    "\n",
    "    # Format plot\n",
    "    plt.xlim([0, 1])\n",
    "    plt.ylim([0, 1])\n",
    "    plt.xlabel('False Positive Rate')\n",
    "    plt.ylabel('True Positive Rate')\n",
    "    plt.title('Comparison of ROC Curves for FineTuned Bert with Cross Entropy, n=10,000')\n",
    "    plt.legend(loc=\"lower right\")\n",
    "\n",
    "    # Save the final plot\n",
    "    os.makedirs(os.path.dirname(save_path), exist_ok=True)\n",
    "    plt.savefig(save_path)\n",
    "    plt.close()\n"
   ]
  },
  {
   "cell_type": "code",
   "execution_count": 14,
   "metadata": {},
   "outputs": [],
   "source": [
    "# List of saved CSV files (adjust paths as needed)\n",
    "csv_files = [\n",
    "    \"finetunedBert1/_Boosting_with_our_bert_features.csv\",\n",
    "    \"finetunedBert1/_Decision_Tree_with_our_bert_features.csv\",\n",
    "    \"finetunedBert1/Logistic_Regression_reg1_roc_logistic_finetune1run2.csv\",\n",
    "    \"finetunedBert1/_Random_Forest_with_our_bert_features.csv\",\n",
    "    \"finetunedBert1/NeuralNet_reg0.0025_roc.csv\"\n",
    "    \n",
    "]\n",
    "\n",
    "# Manually input model names for the legend\n",
    "model_names = [\n",
    "    \"XGBoost\",\n",
    "    \"Decision Tree\",\n",
    "    \"Logistic Regression\",\n",
    "    \"Random Forest\",\n",
    "    \"2-layer Neural Network\"\n",
    "]\n",
    "\n",
    "# Save path for the combined ROC plot\n",
    "save_path = \"results/combined_roc_curve_Random_Forest.png\"\n",
    "\n",
    "# Call the function\n",
    "plot_multiple_roc_curves(csv_files, model_names, save_path)\n"
   ]
  }
 ],
 "metadata": {
  "kernelspec": {
   "display_name": "Python (cs229proj)",
   "language": "python",
   "name": "cs229proj"
  },
  "language_info": {
   "codemirror_mode": {
    "name": "ipython",
    "version": 3
   },
   "file_extension": ".py",
   "mimetype": "text/x-python",
   "name": "python",
   "nbconvert_exporter": "python",
   "pygments_lexer": "ipython3",
   "version": "3.10.16"
  }
 },
 "nbformat": 4,
 "nbformat_minor": 2
}
