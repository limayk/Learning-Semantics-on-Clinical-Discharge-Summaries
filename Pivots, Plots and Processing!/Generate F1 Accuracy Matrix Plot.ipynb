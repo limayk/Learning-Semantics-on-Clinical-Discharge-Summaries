{
 "cells": [
  {
   "cell_type": "code",
   "execution_count": 23,
   "id": "8f8da1f3",
   "metadata": {},
   "outputs": [],
   "source": [
    "import os\n",
    "import pandas as pd\n",
    "import matplotlib as mpl\n",
    "import matplotlib.cm as cm\n",
    "from IPython.display import display, HTML"
   ]
  },
  {
   "cell_type": "markdown",
   "id": "28dd0623",
   "metadata": {},
   "source": [
    "### Read Data\n",
    "The counts for each of TP, TN, FP, FN are pulled from the confusion matrix for each mdoel run. The calculations for Precision, Recall, F1 and Accuracy are done in excel formulae"
   ]
  },
  {
   "cell_type": "code",
   "execution_count": 24,
   "id": "8d684ceb",
   "metadata": {},
   "outputs": [],
   "source": [
    "folder_name = \"alldata\"\n",
    "file_name = \"eval metrics all models.csv\"\n",
    "file_path = os.path.join(os.getcwd(), folder_name, file_name)\n",
    "df = pd.read_csv(file_path)"
   ]
  },
  {
   "cell_type": "code",
   "execution_count": 25,
   "id": "f50129a4",
   "metadata": {},
   "outputs": [
    {
     "data": {
      "text/html": [
       "<div>\n",
       "<style scoped>\n",
       "    .dataframe tbody tr th:only-of-type {\n",
       "        vertical-align: middle;\n",
       "    }\n",
       "\n",
       "    .dataframe tbody tr th {\n",
       "        vertical-align: top;\n",
       "    }\n",
       "\n",
       "    .dataframe thead th {\n",
       "        text-align: right;\n",
       "    }\n",
       "</style>\n",
       "<table border=\"1\" class=\"dataframe\">\n",
       "  <thead>\n",
       "    <tr style=\"text-align: right;\">\n",
       "      <th></th>\n",
       "      <th>Model</th>\n",
       "      <th>Dataset</th>\n",
       "      <th>TN</th>\n",
       "      <th>FP</th>\n",
       "      <th>TP</th>\n",
       "      <th>FN</th>\n",
       "      <th>Precision</th>\n",
       "      <th>Recall</th>\n",
       "      <th>F1</th>\n",
       "      <th>Accuracy</th>\n",
       "    </tr>\n",
       "  </thead>\n",
       "  <tbody>\n",
       "    <tr>\n",
       "      <th>0</th>\n",
       "      <td>NN</td>\n",
       "      <td>Pre-trained Bert</td>\n",
       "      <td>374</td>\n",
       "      <td>513</td>\n",
       "      <td>892</td>\n",
       "      <td>221</td>\n",
       "      <td>0.634875</td>\n",
       "      <td>0.801438</td>\n",
       "      <td>0.708499</td>\n",
       "      <td>0.633</td>\n",
       "    </tr>\n",
       "  </tbody>\n",
       "</table>\n",
       "</div>"
      ],
      "text/plain": [
       "  Model           Dataset   TN   FP   TP   FN  Precision    Recall        F1  \\\n",
       "0    NN  Pre-trained Bert  374  513  892  221   0.634875  0.801438  0.708499   \n",
       "\n",
       "   Accuracy  \n",
       "0     0.633  "
      ]
     },
     "execution_count": 25,
     "metadata": {},
     "output_type": "execute_result"
    }
   ],
   "source": [
    "df.head(1)"
   ]
  },
  {
   "cell_type": "markdown",
   "id": "0368a79e",
   "metadata": {},
   "source": [
    "### Create pivot table + heatmap"
   ]
  },
  {
   "cell_type": "code",
   "execution_count": 26,
   "id": "86e5369c",
   "metadata": {},
   "outputs": [
    {
     "data": {
      "text/html": [
       "<table border=\"1\" class=\"dataframe\">\n",
       "  <thead>\n",
       "    <tr style=\"text-align: right;\">\n",
       "      <th>Dataset</th>\n",
       "      <th>Fine-tuned Bert CE</th>\n",
       "      <th>Fine-tuned Bert CS</th>\n",
       "      <th>OpenAI Full Text</th>\n",
       "      <th>OpenAI Summarized</th>\n",
       "      <th>Pre-trained Bert</th>\n",
       "    </tr>\n",
       "    <tr>\n",
       "      <th>Model</th>\n",
       "      <th></th>\n",
       "      <th></th>\n",
       "      <th></th>\n",
       "      <th></th>\n",
       "      <th></th>\n",
       "    </tr>\n",
       "  </thead>\n",
       "  <tbody>\n",
       "    <tr>\n",
       "      <th>Decision Tree</th>\n",
       "      <td><div style=\"display: flex; flex-direction: column; text-align: center;\"><span style=\"background-color: #cbead0; padding: 2px;\">F1: 0.63</span><span style=\"background-color: #abe3fa; padding: 2px;\">Acc: 0.63</span></div></td>\n",
       "      <td><div style=\"display: flex; flex-direction: column; text-align: center;\"><span style=\"background-color: #d9efe1; padding: 2px;\">F1: 0.58</span><span style=\"background-color: #beebfa; padding: 2px;\">Acc: 0.58</span></div></td>\n",
       "      <td><div style=\"display: flex; flex-direction: column; text-align: center;\"><span style=\"background-color: #d0ecd5; padding: 2px;\">F1: 0.61</span><span style=\"background-color: #d6f3fa; padding: 2px;\">Acc: 0.52</span></div></td>\n",
       "      <td><div style=\"display: flex; flex-direction: column; text-align: center;\"><span style=\"background-color: #d1ecd6; padding: 2px;\">F1: 0.61</span><span style=\"background-color: #cef1fa; padding: 2px;\">Acc: 0.54</span></div></td>\n",
       "      <td><div style=\"display: flex; flex-direction: column; text-align: center;\"><span style=\"background-color: #c3e7c6; padding: 2px;\">F1: 0.66</span><span style=\"background-color: #b4e7fa; padding: 2px;\">Acc: 0.61</span></div></td>\n",
       "    </tr>\n",
       "    <tr>\n",
       "      <th>Logistic Regression</th>\n",
       "      <td><div style=\"display: flex; flex-direction: column; text-align: center;\"><span style=\"background-color: #c0e5c2; padding: 2px;\">F1: 0.67</span><span style=\"background-color: #9edffa; padding: 2px;\">Acc: 0.67</span></div></td>\n",
       "      <td><div style=\"display: flex; flex-direction: column; text-align: center;\"><span style=\"background-color: #ceebd2; padding: 2px;\">F1: 0.62</span><span style=\"background-color: #abe4fa; padding: 2px;\">Acc: 0.63</span></div></td>\n",
       "      <td><div style=\"display: flex; flex-direction: column; text-align: center;\"><span style=\"background-color: #d1ecd6; padding: 2px;\">F1: 0.61</span><span style=\"background-color: #cef1fa; padding: 2px;\">Acc: 0.54</span></div></td>\n",
       "      <td><div style=\"display: flex; flex-direction: column; text-align: center;\"><span style=\"background-color: #d6eedc; padding: 2px;\">F1: 0.59</span><span style=\"background-color: #c7eefa; padding: 2px;\">Acc: 0.56</span></div></td>\n",
       "      <td><div style=\"display: flex; flex-direction: column; text-align: center;\"><span style=\"background-color: #b7e2b7; padding: 2px;\">F1: 0.70</span><span style=\"background-color: #a3e0fa; padding: 2px;\">Acc: 0.65</span></div></td>\n",
       "    </tr>\n",
       "    <tr>\n",
       "      <th>NN</th>\n",
       "      <td><div style=\"display: flex; flex-direction: column; text-align: center;\"><span style=\"background-color: #c0e5c1; padding: 2px;\">F1: 0.67</span><span style=\"background-color: #97dcfa; padding: 2px;\">Acc: 0.68</span></div></td>\n",
       "      <td><div style=\"display: flex; flex-direction: column; text-align: center;\"><span style=\"background-color: #cfebd4; padding: 2px;\">F1: 0.62</span><span style=\"background-color: #b4e7fa; padding: 2px;\">Acc: 0.61</span></div></td>\n",
       "      <td><div style=\"display: flex; flex-direction: column; text-align: center;\"><span style=\"background-color: #e0f2e9; padding: 2px;\">F1: 0.55</span><span style=\"background-color: #e0f7fa; padding: 2px;\">Acc: 0.49</span></div></td>\n",
       "      <td><div style=\"display: flex; flex-direction: column; text-align: center;\"><span style=\"background-color: #cae9ce; padding: 2px;\">F1: 0.63</span><span style=\"background-color: #cbeffa; padding: 2px;\">Acc: 0.55</span></div></td>\n",
       "      <td><div style=\"display: flex; flex-direction: column; text-align: center;\"><span style=\"background-color: #b6e1b5; padding: 2px;\">F1: 0.71</span><span style=\"background-color: #aae3fa; padding: 2px;\">Acc: 0.63</span></div></td>\n",
       "    </tr>\n",
       "    <tr>\n",
       "      <th>Random Forest</th>\n",
       "      <td><div style=\"display: flex; flex-direction: column; text-align: center;\"><span style=\"background-color: #bce4bd; padding: 2px;\">F1: 0.69</span><span style=\"background-color: #97dcfa; padding: 2px;\">Acc: 0.68</span></div></td>\n",
       "      <td><div style=\"display: flex; flex-direction: column; text-align: center;\"><span style=\"background-color: #c2e6c4; padding: 2px;\">F1: 0.66</span><span style=\"background-color: #9fdffa; padding: 2px;\">Acc: 0.66</span></div></td>\n",
       "      <td><div style=\"display: flex; flex-direction: column; text-align: center;\"><span style=\"background-color: #b0dfae; padding: 2px;\">F1: 0.73</span><span style=\"background-color: #a0dffa; padding: 2px;\">Acc: 0.66</span></div></td>\n",
       "      <td><div style=\"display: flex; flex-direction: column; text-align: center;\"><span style=\"background-color: #a1d99b; padding: 2px;\">F1: 0.79</span><span style=\"background-color: #81d4fa; padding: 2px;\">Acc: 0.74</span></div></td>\n",
       "      <td><div style=\"display: flex; flex-direction: column; text-align: center;\"><span style=\"background-color: #bde4be; padding: 2px;\">F1: 0.68</span><span style=\"background-color: #a0dffa; padding: 2px;\">Acc: 0.66</span></div></td>\n",
       "    </tr>\n",
       "    <tr>\n",
       "      <th>XGBoost</th>\n",
       "      <td><div style=\"display: flex; flex-direction: column; text-align: center;\"><span style=\"background-color: #c5e7c7; padding: 2px;\">F1: 0.65</span><span style=\"background-color: #a3e0fa; padding: 2px;\">Acc: 0.65</span></div></td>\n",
       "      <td><div style=\"display: flex; flex-direction: column; text-align: center;\"><span style=\"background-color: #c6e8c8; padding: 2px;\">F1: 0.65</span><span style=\"background-color: #a4e1fa; padding: 2px;\">Acc: 0.65</span></div></td>\n",
       "      <td><div style=\"display: flex; flex-direction: column; text-align: center;\"><span style=\"background-color: #b9e3b9; padding: 2px;\">F1: 0.70</span><span style=\"background-color: #b7e8fa; padding: 2px;\">Acc: 0.60</span></div></td>\n",
       "      <td><div style=\"display: flex; flex-direction: column; text-align: center;\"><span style=\"background-color: #c1e6c3; padding: 2px;\">F1: 0.67</span><span style=\"background-color: #b7e8fa; padding: 2px;\">Acc: 0.60</span></div></td>\n",
       "      <td><div style=\"display: flex; flex-direction: column; text-align: center;\"><span style=\"background-color: #b0dfae; padding: 2px;\">F1: 0.73</span><span style=\"background-color: #97dcfa; padding: 2px;\">Acc: 0.68</span></div></td>\n",
       "    </tr>\n",
       "  </tbody>\n",
       "</table>"
      ],
      "text/plain": [
       "<IPython.core.display.HTML object>"
      ]
     },
     "metadata": {},
     "output_type": "display_data"
    }
   ],
   "source": [
    "# Create pivot tables for each metric\n",
    "pivot_f1 = df.pivot(index='Model', columns='Dataset', values='F1')\n",
    "pivot_acc = df.pivot(index='Model', columns='Dataset', values='Accuracy')\n",
    "\n",
    "# Determine the overall min and max for each metric for normalization\n",
    "f1_min, f1_max = pivot_f1.min().min(), pivot_f1.max().max()\n",
    "acc_min, acc_max = pivot_acc.min().min(), pivot_acc.max().max()\n",
    "\n",
    "norm_f1 = mpl.colors.Normalize(vmin=f1_min, vmax=f1_max)\n",
    "norm_acc = mpl.colors.Normalize(vmin=acc_min, vmax=acc_max)\n",
    "\n",
    "# Set separate colormaps:\n",
    "cmap_f1 = mpl.colors.LinearSegmentedColormap.from_list(\"light_greens\", [\"#e0f2e9\", \"#a1d99b\"])\n",
    "cmap_acc = mpl.colors.LinearSegmentedColormap.from_list(\"light_blues\", [\"#e0f7fa\", \"#81d4fa\"])\n",
    "\n",
    "\n",
    "def get_color(val, norm, cmap):\n",
    "    \"\"\"Return a hex color for a given value based on the provided normalization and colormap.\"\"\"\n",
    "    rgb = cmap(norm(val))[:3]\n",
    "    return mpl.colors.rgb2hex(rgb)\n",
    "\n",
    "def format_cell(f1, acc):\n",
    "    \"\"\"Create an HTML block for a cell showing F1 and Accuracy with background colors.\"\"\"\n",
    "    f1_color = get_color(f1, norm_f1, cmap_f1)\n",
    "    acc_color = get_color(acc, norm_acc, cmap_acc)\n",
    "    cell_html = (\n",
    "        f'<div style=\"display: flex; flex-direction: column; text-align: center;\">'\n",
    "        f'<span style=\"background-color: {f1_color}; padding: 2px;\">F1: {f1:.2f}</span>'\n",
    "        f'<span style=\"background-color: {acc_color}; padding: 2px;\">Acc: {acc:.2f}</span>'\n",
    "        f'</div>'\n",
    "    )\n",
    "    return cell_html\n",
    "\n",
    "# Build a new DataFrame with the combined HTML for each cell.\n",
    "formatted_data = {}\n",
    "for model in pivot_f1.index:\n",
    "    row = {}\n",
    "    for ds in pivot_f1.columns:\n",
    "        # Get the corresponding F1 and Accuracy values\n",
    "        f1_val = pivot_f1.loc[model, ds]\n",
    "        acc_val = pivot_acc.loc[model, ds]\n",
    "        row[ds] = format_cell(f1_val, acc_val)\n",
    "    formatted_data[model] = row\n",
    "\n",
    "pivot_html = pd.DataFrame.from_dict(formatted_data, orient='index')\n",
    "pivot_html.index.name = 'Model'\n",
    "pivot_html.columns.name = 'Dataset'\n",
    "\n",
    "#Render the final HTML table with custom formatting.\n",
    "html_table = pivot_html.to_html(escape=False)\n",
    "display(HTML(html_table))"
   ]
  },
  {
   "cell_type": "code",
   "execution_count": null,
   "id": "dcf1b066",
   "metadata": {},
   "outputs": [],
   "source": []
  }
 ],
 "metadata": {
  "kernelspec": {
   "display_name": "Python (Miniconda3)",
   "language": "python",
   "name": "miniconda3"
  },
  "language_info": {
   "codemirror_mode": {
    "name": "ipython",
    "version": 3
   },
   "file_extension": ".py",
   "mimetype": "text/x-python",
   "name": "python",
   "nbconvert_exporter": "python",
   "pygments_lexer": "ipython3",
   "version": "3.12.9"
  }
 },
 "nbformat": 4,
 "nbformat_minor": 5
}
