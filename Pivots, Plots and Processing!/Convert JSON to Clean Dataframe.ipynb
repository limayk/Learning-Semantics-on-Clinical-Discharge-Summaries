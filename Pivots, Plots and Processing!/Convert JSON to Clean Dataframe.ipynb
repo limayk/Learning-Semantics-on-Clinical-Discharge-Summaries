{
 "cells": [
  {
   "cell_type": "code",
   "execution_count": 6,
   "id": "765001a5",
   "metadata": {},
   "outputs": [],
   "source": [
    "import os\n",
    "import pandas as pd"
   ]
  },
  {
   "cell_type": "markdown",
   "id": "38f0465c",
   "metadata": {},
   "source": [
    "#### Read json data"
   ]
  },
  {
   "cell_type": "code",
   "execution_count": 73,
   "id": "d2ca466a",
   "metadata": {},
   "outputs": [],
   "source": [
    "folder_name = \"alldata/note\"\n",
    "file_name = \"semantic_OPENAI_summaries.jsonl\" \n",
    "file_path = os.path.join(os.getcwd(), folder_name, file_name)\n",
    "\n",
    "#kinda messy dataframe\n",
    "df_jsonl = pd.read_json(file_path, lines=True)\n",
    "\n",
    "#extract embedding as separate column\n",
    "df_jsonl[\"embedding\"] = df_jsonl[\"response\"].apply(\n",
    "    lambda resp: resp[\"body\"][\"data\"][0][\"embedding\"]\n",
    ")\n",
    "\n",
    "#split vector in embedding column into multiple columns - THIS HELPS WRITE TO CSV\n",
    "df_emb_expanded = pd.DataFrame(df_jsonl[\"embedding\"].tolist())\n",
    "\n",
    "#Merge back into original df_jsonl\n",
    "df_merged = pd.concat([df_jsonl, df_emb_expanded], axis=1)\n",
    "\n",
    "#Extract note_id \n",
    "#Remove the prefix \"embedding-original-\" from the new note_id column\n",
    "df_merged.rename(columns={\"custom_id\": \"note_id\"}, inplace=True)\n",
    "df_merged[\"note_id\"] = df_merged[\"note_id\"].str.replace(\"embedding-original-\", \"\", regex=False)\n",
    "\n",
    "#only keep cols we want\n",
    "df_merged.drop(columns=[\"id\", \"response\", \"error\", \"embedding\"], inplace=True)"
   ]
  },
  {
   "cell_type": "code",
   "execution_count": 74,
   "id": "1abc26ea",
   "metadata": {},
   "outputs": [
    {
     "data": {
      "text/html": [
       "<div>\n",
       "<style scoped>\n",
       "    .dataframe tbody tr th:only-of-type {\n",
       "        vertical-align: middle;\n",
       "    }\n",
       "\n",
       "    .dataframe tbody tr th {\n",
       "        vertical-align: top;\n",
       "    }\n",
       "\n",
       "    .dataframe thead th {\n",
       "        text-align: right;\n",
       "    }\n",
       "</style>\n",
       "<table border=\"1\" class=\"dataframe\">\n",
       "  <thead>\n",
       "    <tr style=\"text-align: right;\">\n",
       "      <th></th>\n",
       "      <th>note_id</th>\n",
       "      <th>0</th>\n",
       "      <th>1</th>\n",
       "      <th>2</th>\n",
       "      <th>3</th>\n",
       "      <th>4</th>\n",
       "      <th>5</th>\n",
       "      <th>6</th>\n",
       "      <th>7</th>\n",
       "      <th>8</th>\n",
       "      <th>...</th>\n",
       "      <th>1526</th>\n",
       "      <th>1527</th>\n",
       "      <th>1528</th>\n",
       "      <th>1529</th>\n",
       "      <th>1530</th>\n",
       "      <th>1531</th>\n",
       "      <th>1532</th>\n",
       "      <th>1533</th>\n",
       "      <th>1534</th>\n",
       "      <th>1535</th>\n",
       "    </tr>\n",
       "  </thead>\n",
       "  <tbody>\n",
       "    <tr>\n",
       "      <th>0</th>\n",
       "      <td>10202247-DS-15</td>\n",
       "      <td>-0.000184</td>\n",
       "      <td>-0.006476</td>\n",
       "      <td>0.034641</td>\n",
       "      <td>-0.023113</td>\n",
       "      <td>-0.025192</td>\n",
       "      <td>0.027593</td>\n",
       "      <td>-0.018605</td>\n",
       "      <td>-0.008514</td>\n",
       "      <td>-0.047314</td>\n",
       "      <td>...</td>\n",
       "      <td>0.015311</td>\n",
       "      <td>-0.005122</td>\n",
       "      <td>0.030984</td>\n",
       "      <td>-0.014487</td>\n",
       "      <td>0.006891</td>\n",
       "      <td>-0.018339</td>\n",
       "      <td>-0.048486</td>\n",
       "      <td>0.001417</td>\n",
       "      <td>-0.010921</td>\n",
       "      <td>-0.03492</td>\n",
       "    </tr>\n",
       "  </tbody>\n",
       "</table>\n",
       "<p>1 rows × 1537 columns</p>\n",
       "</div>"
      ],
      "text/plain": [
       "          note_id         0         1         2         3         4         5  \\\n",
       "0  10202247-DS-15 -0.000184 -0.006476  0.034641 -0.023113 -0.025192  0.027593   \n",
       "\n",
       "          6         7         8  ...      1526      1527      1528      1529  \\\n",
       "0 -0.018605 -0.008514 -0.047314  ...  0.015311 -0.005122  0.030984 -0.014487   \n",
       "\n",
       "       1530      1531      1532      1533      1534     1535  \n",
       "0  0.006891 -0.018339 -0.048486  0.001417 -0.010921 -0.03492  \n",
       "\n",
       "[1 rows x 1537 columns]"
      ]
     },
     "execution_count": 74,
     "metadata": {},
     "output_type": "execute_result"
    }
   ],
   "source": [
    "df_merged.head(1)"
   ]
  },
  {
   "cell_type": "markdown",
   "id": "8f05c453",
   "metadata": {},
   "source": [
    "#### Read original data"
   ]
  },
  {
   "cell_type": "code",
   "execution_count": 75,
   "id": "51ce57e4",
   "metadata": {},
   "outputs": [],
   "source": [
    "#read\n",
    "file_name = \"discharge.csv\"\n",
    "file_path = os.path.join(os.getcwd(), folder_name, file_name)\n",
    "df = pd.read_csv(file_path)"
   ]
  },
  {
   "cell_type": "code",
   "execution_count": 76,
   "id": "fb86bf5e",
   "metadata": {},
   "outputs": [],
   "source": [
    "#create Y label\n",
    "df['charttime'] = pd.to_datetime(df['charttime'])\n",
    "df = df.sort_values(by=['subject_id', 'charttime'])\n",
    "df['Y'] = df.groupby('subject_id')['charttime'].shift(-1).notna().astype(int)"
   ]
  },
  {
   "cell_type": "markdown",
   "id": "5c8b7951",
   "metadata": {},
   "source": [
    "#### merge the two on note_id to get Y labels"
   ]
  },
  {
   "cell_type": "code",
   "execution_count": 77,
   "id": "8bea94f2",
   "metadata": {},
   "outputs": [],
   "source": [
    "df_merged_final = df_merged.merge(df[[\"note_id\", \"Y\"]], on=\"note_id\", how=\"left\")"
   ]
  },
  {
   "cell_type": "code",
   "execution_count": 78,
   "id": "668c4752",
   "metadata": {},
   "outputs": [
    {
     "data": {
      "text/html": [
       "<div>\n",
       "<style scoped>\n",
       "    .dataframe tbody tr th:only-of-type {\n",
       "        vertical-align: middle;\n",
       "    }\n",
       "\n",
       "    .dataframe tbody tr th {\n",
       "        vertical-align: top;\n",
       "    }\n",
       "\n",
       "    .dataframe thead th {\n",
       "        text-align: right;\n",
       "    }\n",
       "</style>\n",
       "<table border=\"1\" class=\"dataframe\">\n",
       "  <thead>\n",
       "    <tr style=\"text-align: right;\">\n",
       "      <th></th>\n",
       "      <th>note_id</th>\n",
       "      <th>0</th>\n",
       "      <th>1</th>\n",
       "      <th>2</th>\n",
       "      <th>3</th>\n",
       "      <th>4</th>\n",
       "      <th>5</th>\n",
       "      <th>6</th>\n",
       "      <th>7</th>\n",
       "      <th>8</th>\n",
       "      <th>...</th>\n",
       "      <th>1527</th>\n",
       "      <th>1528</th>\n",
       "      <th>1529</th>\n",
       "      <th>1530</th>\n",
       "      <th>1531</th>\n",
       "      <th>1532</th>\n",
       "      <th>1533</th>\n",
       "      <th>1534</th>\n",
       "      <th>1535</th>\n",
       "      <th>Y</th>\n",
       "    </tr>\n",
       "  </thead>\n",
       "  <tbody>\n",
       "  </tbody>\n",
       "</table>\n",
       "<p>0 rows × 1538 columns</p>\n",
       "</div>"
      ],
      "text/plain": [
       "Empty DataFrame\n",
       "Columns: [note_id, 0, 1, 2, 3, 4, 5, 6, 7, 8, 9, 10, 11, 12, 13, 14, 15, 16, 17, 18, 19, 20, 21, 22, 23, 24, 25, 26, 27, 28, 29, 30, 31, 32, 33, 34, 35, 36, 37, 38, 39, 40, 41, 42, 43, 44, 45, 46, 47, 48, 49, 50, 51, 52, 53, 54, 55, 56, 57, 58, 59, 60, 61, 62, 63, 64, 65, 66, 67, 68, 69, 70, 71, 72, 73, 74, 75, 76, 77, 78, 79, 80, 81, 82, 83, 84, 85, 86, 87, 88, 89, 90, 91, 92, 93, 94, 95, 96, 97, 98, ...]\n",
       "Index: []\n",
       "\n",
       "[0 rows x 1538 columns]"
      ]
     },
     "execution_count": 78,
     "metadata": {},
     "output_type": "execute_result"
    }
   ],
   "source": [
    "df_merged_final[df_merged_final.isna().any(axis=1)]"
   ]
  },
  {
   "cell_type": "code",
   "execution_count": 79,
   "id": "4a986cf3",
   "metadata": {},
   "outputs": [],
   "source": [
    "df_merged_final.drop(columns=[\"note_id\"], inplace=True)"
   ]
  },
  {
   "cell_type": "code",
   "execution_count": 80,
   "id": "4a7d970e",
   "metadata": {},
   "outputs": [
    {
     "data": {
      "text/html": [
       "<div>\n",
       "<style scoped>\n",
       "    .dataframe tbody tr th:only-of-type {\n",
       "        vertical-align: middle;\n",
       "    }\n",
       "\n",
       "    .dataframe tbody tr th {\n",
       "        vertical-align: top;\n",
       "    }\n",
       "\n",
       "    .dataframe thead th {\n",
       "        text-align: right;\n",
       "    }\n",
       "</style>\n",
       "<table border=\"1\" class=\"dataframe\">\n",
       "  <thead>\n",
       "    <tr style=\"text-align: right;\">\n",
       "      <th></th>\n",
       "      <th>0</th>\n",
       "      <th>1</th>\n",
       "      <th>2</th>\n",
       "      <th>3</th>\n",
       "      <th>4</th>\n",
       "      <th>5</th>\n",
       "      <th>6</th>\n",
       "      <th>7</th>\n",
       "      <th>8</th>\n",
       "      <th>9</th>\n",
       "      <th>...</th>\n",
       "      <th>1527</th>\n",
       "      <th>1528</th>\n",
       "      <th>1529</th>\n",
       "      <th>1530</th>\n",
       "      <th>1531</th>\n",
       "      <th>1532</th>\n",
       "      <th>1533</th>\n",
       "      <th>1534</th>\n",
       "      <th>1535</th>\n",
       "      <th>Y</th>\n",
       "    </tr>\n",
       "  </thead>\n",
       "  <tbody>\n",
       "    <tr>\n",
       "      <th>0</th>\n",
       "      <td>-0.000184</td>\n",
       "      <td>-0.006476</td>\n",
       "      <td>0.034641</td>\n",
       "      <td>-0.023113</td>\n",
       "      <td>-0.025192</td>\n",
       "      <td>0.027593</td>\n",
       "      <td>-0.018605</td>\n",
       "      <td>-0.008514</td>\n",
       "      <td>-0.047314</td>\n",
       "      <td>-0.016581</td>\n",
       "      <td>...</td>\n",
       "      <td>-0.005122</td>\n",
       "      <td>0.030984</td>\n",
       "      <td>-0.014487</td>\n",
       "      <td>0.006891</td>\n",
       "      <td>-0.018339</td>\n",
       "      <td>-0.048486</td>\n",
       "      <td>0.001417</td>\n",
       "      <td>-0.010921</td>\n",
       "      <td>-0.03492</td>\n",
       "      <td>1</td>\n",
       "    </tr>\n",
       "  </tbody>\n",
       "</table>\n",
       "<p>1 rows × 1537 columns</p>\n",
       "</div>"
      ],
      "text/plain": [
       "          0         1         2         3         4         5         6  \\\n",
       "0 -0.000184 -0.006476  0.034641 -0.023113 -0.025192  0.027593 -0.018605   \n",
       "\n",
       "          7         8         9  ...      1527      1528      1529      1530  \\\n",
       "0 -0.008514 -0.047314 -0.016581  ... -0.005122  0.030984 -0.014487  0.006891   \n",
       "\n",
       "       1531      1532      1533      1534     1535  Y  \n",
       "0 -0.018339 -0.048486  0.001417 -0.010921 -0.03492  1  \n",
       "\n",
       "[1 rows x 1537 columns]"
      ]
     },
     "execution_count": 80,
     "metadata": {},
     "output_type": "execute_result"
    }
   ],
   "source": [
    "df_merged_final.head(1)"
   ]
  },
  {
   "cell_type": "code",
   "execution_count": 81,
   "id": "7c15fe61",
   "metadata": {},
   "outputs": [],
   "source": [
    "#Define the output file path\n",
    "output_file_path = os.path.join(os.getcwd(), folder_name, \"OPENAI_merged_500_summary_embedding.csv\")\n",
    "\n",
    "#Save as CSV\n",
    "df_merged_final.to_csv(output_file_path, index=False)"
   ]
  },
  {
   "cell_type": "markdown",
   "id": "6d31164a",
   "metadata": {},
   "source": [
    "#### check that we can read in the csv and it is not null"
   ]
  },
  {
   "cell_type": "code",
   "execution_count": 82,
   "id": "9239755d",
   "metadata": {},
   "outputs": [],
   "source": [
    "df_jsonl_check = pd.read_csv(output_file_path)"
   ]
  },
  {
   "cell_type": "code",
   "execution_count": 83,
   "id": "5cc8c694",
   "metadata": {},
   "outputs": [
    {
     "data": {
      "text/html": [
       "<div>\n",
       "<style scoped>\n",
       "    .dataframe tbody tr th:only-of-type {\n",
       "        vertical-align: middle;\n",
       "    }\n",
       "\n",
       "    .dataframe tbody tr th {\n",
       "        vertical-align: top;\n",
       "    }\n",
       "\n",
       "    .dataframe thead th {\n",
       "        text-align: right;\n",
       "    }\n",
       "</style>\n",
       "<table border=\"1\" class=\"dataframe\">\n",
       "  <thead>\n",
       "    <tr style=\"text-align: right;\">\n",
       "      <th></th>\n",
       "      <th>0</th>\n",
       "      <th>1</th>\n",
       "      <th>2</th>\n",
       "      <th>3</th>\n",
       "      <th>4</th>\n",
       "      <th>5</th>\n",
       "      <th>6</th>\n",
       "      <th>7</th>\n",
       "      <th>8</th>\n",
       "      <th>9</th>\n",
       "      <th>...</th>\n",
       "      <th>1527</th>\n",
       "      <th>1528</th>\n",
       "      <th>1529</th>\n",
       "      <th>1530</th>\n",
       "      <th>1531</th>\n",
       "      <th>1532</th>\n",
       "      <th>1533</th>\n",
       "      <th>1534</th>\n",
       "      <th>1535</th>\n",
       "      <th>Y</th>\n",
       "    </tr>\n",
       "  </thead>\n",
       "  <tbody>\n",
       "    <tr>\n",
       "      <th>0</th>\n",
       "      <td>-0.000184</td>\n",
       "      <td>-0.006476</td>\n",
       "      <td>0.034641</td>\n",
       "      <td>-0.023113</td>\n",
       "      <td>-0.025192</td>\n",
       "      <td>0.027593</td>\n",
       "      <td>-0.018605</td>\n",
       "      <td>-0.008514</td>\n",
       "      <td>-0.047314</td>\n",
       "      <td>-0.016581</td>\n",
       "      <td>...</td>\n",
       "      <td>-0.005122</td>\n",
       "      <td>0.030984</td>\n",
       "      <td>-0.014487</td>\n",
       "      <td>0.006891</td>\n",
       "      <td>-0.018339</td>\n",
       "      <td>-0.048486</td>\n",
       "      <td>0.001417</td>\n",
       "      <td>-0.010921</td>\n",
       "      <td>-0.03492</td>\n",
       "      <td>1</td>\n",
       "    </tr>\n",
       "  </tbody>\n",
       "</table>\n",
       "<p>1 rows × 1537 columns</p>\n",
       "</div>"
      ],
      "text/plain": [
       "          0         1         2         3         4         5         6  \\\n",
       "0 -0.000184 -0.006476  0.034641 -0.023113 -0.025192  0.027593 -0.018605   \n",
       "\n",
       "          7         8         9  ...      1527      1528      1529      1530  \\\n",
       "0 -0.008514 -0.047314 -0.016581  ... -0.005122  0.030984 -0.014487  0.006891   \n",
       "\n",
       "       1531      1532      1533      1534     1535  Y  \n",
       "0 -0.018339 -0.048486  0.001417 -0.010921 -0.03492  1  \n",
       "\n",
       "[1 rows x 1537 columns]"
      ]
     },
     "execution_count": 83,
     "metadata": {},
     "output_type": "execute_result"
    }
   ],
   "source": [
    "df_jsonl_check.head(1)"
   ]
  },
  {
   "cell_type": "code",
   "execution_count": 84,
   "id": "464d68c1",
   "metadata": {},
   "outputs": [
    {
     "data": {
      "text/plain": [
       "0       0\n",
       "1       0\n",
       "2       0\n",
       "3       0\n",
       "4       0\n",
       "       ..\n",
       "1532    0\n",
       "1533    0\n",
       "1534    0\n",
       "1535    0\n",
       "Y       0\n",
       "Length: 1537, dtype: int64"
      ]
     },
     "execution_count": 84,
     "metadata": {},
     "output_type": "execute_result"
    }
   ],
   "source": [
    "df_jsonl_check.isna().sum()"
   ]
  },
  {
   "cell_type": "code",
   "execution_count": 85,
   "id": "38506202",
   "metadata": {},
   "outputs": [
    {
     "name": "stdout",
     "output_type": "stream",
     "text": [
      "Y\n",
      "1    268\n",
      "0    232\n",
      "Name: count, dtype: int64\n"
     ]
    }
   ],
   "source": [
    "print(df_jsonl_check['Y'].value_counts())"
   ]
  },
  {
   "cell_type": "code",
   "execution_count": null,
   "id": "60fd7da6",
   "metadata": {},
   "outputs": [],
   "source": []
  }
 ],
 "metadata": {
  "kernelspec": {
   "display_name": "Python (Miniconda3)",
   "language": "python",
   "name": "miniconda3"
  },
  "language_info": {
   "codemirror_mode": {
    "name": "ipython",
    "version": 3
   },
   "file_extension": ".py",
   "mimetype": "text/x-python",
   "name": "python",
   "nbconvert_exporter": "python",
   "pygments_lexer": "ipython3",
   "version": "3.12.9"
  }
 },
 "nbformat": 4,
 "nbformat_minor": 5
}
